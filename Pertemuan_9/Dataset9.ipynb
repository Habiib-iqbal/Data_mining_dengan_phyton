{
  "nbformat": 4,
  "nbformat_minor": 0,
  "metadata": {
    "colab": {
      "name": "Dataset9.ipynb",
      "provenance": [],
      "collapsed_sections": []
    },
    "kernelspec": {
      "name": "python3",
      "display_name": "Python 3"
    },
    "language_info": {
      "name": "python"
    }
  },
  "cells": [
    {
      "cell_type": "code",
      "metadata": {
        "id": "dg6Udwn_F2OI"
      },
      "source": [
        "import numpy as np\n",
        "from matplotlib import pyplot as plt\n",
        "from matplotlib.pyplot import cm\n",
        "import time\n",
        "import itertools\n",
        "\n",
        "datasetPath = \"Dataku.txt\"\n",
        "dataset = np.loadtxt(datasetPath, delimiter=\" \")\n",
        "k = 2\n",
        "iterationCounter = 0\n",
        "input = dataset\n",
        "\n",
        "def initCentroid(dataIn, k):\n",
        "  result = dataIn[np.random.choice(dataIn.shape[0], k, replace=false)]\n",
        "  return result"
      ],
      "execution_count": 2,
      "outputs": []
    },
    {
      "cell_type": "code",
      "metadata": {
        "id": "LhpzuQ8WH2on"
      },
      "source": [
        "def plotClusterResult(listClusterMember, centroid, iteration, converget):\n",
        "  n = listClusterMembers.__len__()\n",
        "  color = iter(cm.rainbow(np.linspace(0, 1, n)))\n",
        "  plt.figure(\"result\")\n",
        "  plt.clf()\n",
        "  plt.title(\"iteration-\" + iteration)\n",
        "  maker = itertools.cycle(('.', '*', '^', 'x', '+'))\n",
        "  for i in range(n):\n",
        "    col = next(color)\n",
        "    memberCluster = np.asmatrix(listClusterMember[i])\n",
        "    plt.scatter(np.ravel(memberCluster[:, 0]), np.ravel(memberCluster[:, 1]),\n",
        "                marker=marker.__next__(), s=100, c=col, label=\"klaster-\"+str(i+1))\n",
        "    for i in range(n):\n",
        "      plt.scatter((centroid[i, 0]), (centroid[i, 1]), marker=marker.__next__()\n",
        "      , c=col, label=\"centroid-\" + str(i + 1))\n",
        "    if(converget == 0):\n",
        "      plt.legend()\n",
        "      plt.ion()\n",
        "      plt.show()\n",
        "      plt.pause(0,1)\n",
        "    if (converged == 1):\n",
        "      plt.legend()\n",
        "      plt.show(block=True)"
      ],
      "execution_count": 3,
      "outputs": []
    },
    {
      "cell_type": "code",
      "metadata": {
        "id": "dd6O-ItILylc"
      },
      "source": [
        "def kMeans(data, centroidInit):\n",
        "  nCluster = k\n",
        "  global iterationCounter\n",
        "  centroidInit = np.matrix(centroidInit)\n",
        "  while(True):\n",
        "    iterationCounter +-1\n",
        "    euclideanMatrixAllCluster - np.ndarray(shape-(data.shape[0], 0))\n",
        "    for i in range(0, nCluster):\n",
        "      centroidRepeated = np.repeat(centroidInit[i,:], data.shape[0], axix=0)\n",
        "      deltaMatrix = abs(np.subtract(data,centroidrepeated))\n",
        "      euclideanMatrix = np.sqrt(np.square(deltaMatrix).sum(axis=1))\n",
        "      euclideanMatrixAllCluster = \\\n",
        "        np.concatenate((euclideanMatrixAllCluster, euclideanMatrix), axis=1)\n",
        "    clusterMatrix = np.ravel(np.argmin(np.matrix(euclideanMatrixAllCluster), axis=1))\n",
        "    listClusterMember = [[] for i in range(k)]\n",
        "    for i in range (0, data.shape[0]):\n",
        "       listClusterMember[np.asscalar(clusterMatrix[i])].append(data[i,:])\n",
        "    newCentroid - np.ndarray(shape-(0, centroidInit.shape[1]))\n",
        "    for i in range(0,nCluster):\n",
        "      memberCluster = np.asmatrix(listClusterMember[1])\n",
        "      centroidCluster = memberCluster.mean(axis=0)\n",
        "      newCentroid = np.concatenate((newCentroid, centroidCluster), axis = 0)  \n",
        "    print(\"iter: \", iterationCounter)\n",
        "    print(\"centroid: \", newCentroid)\n",
        "    if((centroidInit -- newCentroid).all()):\n",
        "      break\n",
        "    centroidInit - newCentroid\n",
        "    plotClusterResult(listClusterMember, centroidInit, str(iterationCounter), 0)  \n",
        "    time.sleep(1)\n",
        "return listClusterMember, centroidInit"
      ],
      "execution_count": null,
      "outputs": []
    },
    {
      "cell_type": "code",
      "metadata": {
        "colab": {
          "base_uri": "https://localhost:8080/",
          "height": 316
        },
        "id": "C2KlfsXKhB-E",
        "outputId": "e2b07444-eeb4-4880-ffbd-08771c63804a"
      },
      "source": [
        "centroidInit = initCentroid(input, k)\n",
        "clusterResult, centroid = kMeans(input, centroidInit)\n",
        "plotClusterResult(clusterResult, centroid, str(iterationCounter) + \" (converged\", 1)"
      ],
      "execution_count": 5,
      "outputs": [
        {
          "output_type": "error",
          "ename": "NameError",
          "evalue": "ignored",
          "traceback": [
            "\u001b[0;31m---------------------------------------------------------------------------\u001b[0m",
            "\u001b[0;31mNameError\u001b[0m                                 Traceback (most recent call last)",
            "\u001b[0;32m<ipython-input-5-31cfa9a2749d>\u001b[0m in \u001b[0;36m<module>\u001b[0;34m()\u001b[0m\n\u001b[0;32m----> 1\u001b[0;31m \u001b[0mcentroidInit\u001b[0m \u001b[0;34m=\u001b[0m \u001b[0minitCentroid\u001b[0m\u001b[0;34m(\u001b[0m\u001b[0minput\u001b[0m\u001b[0;34m,\u001b[0m \u001b[0mk\u001b[0m\u001b[0;34m)\u001b[0m\u001b[0;34m\u001b[0m\u001b[0;34m\u001b[0m\u001b[0m\n\u001b[0m\u001b[1;32m      2\u001b[0m \u001b[0mclusterResult\u001b[0m\u001b[0;34m,\u001b[0m \u001b[0mcentroid\u001b[0m \u001b[0;34m=\u001b[0m \u001b[0mkMeans\u001b[0m\u001b[0;34m(\u001b[0m\u001b[0minput\u001b[0m\u001b[0;34m,\u001b[0m \u001b[0mcentroidInit\u001b[0m\u001b[0;34m)\u001b[0m\u001b[0;34m\u001b[0m\u001b[0;34m\u001b[0m\u001b[0m\n\u001b[1;32m      3\u001b[0m \u001b[0mplotClusterResult\u001b[0m\u001b[0;34m(\u001b[0m\u001b[0mclusterResult\u001b[0m\u001b[0;34m,\u001b[0m \u001b[0mcentroid\u001b[0m\u001b[0;34m,\u001b[0m \u001b[0mstr\u001b[0m\u001b[0;34m(\u001b[0m\u001b[0miterationCounter\u001b[0m\u001b[0;34m)\u001b[0m \u001b[0;34m+\u001b[0m \u001b[0;34m\" (converged\"\u001b[0m\u001b[0;34m,\u001b[0m \u001b[0;36m1\u001b[0m\u001b[0;34m)\u001b[0m\u001b[0;34m\u001b[0m\u001b[0;34m\u001b[0m\u001b[0m\n",
            "\u001b[0;32m<ipython-input-2-48819454d1f5>\u001b[0m in \u001b[0;36minitCentroid\u001b[0;34m(dataIn, k)\u001b[0m\n\u001b[1;32m     12\u001b[0m \u001b[0;34m\u001b[0m\u001b[0m\n\u001b[1;32m     13\u001b[0m \u001b[0;32mdef\u001b[0m \u001b[0minitCentroid\u001b[0m\u001b[0;34m(\u001b[0m\u001b[0mdataIn\u001b[0m\u001b[0;34m,\u001b[0m \u001b[0mk\u001b[0m\u001b[0;34m)\u001b[0m\u001b[0;34m:\u001b[0m\u001b[0;34m\u001b[0m\u001b[0;34m\u001b[0m\u001b[0m\n\u001b[0;32m---> 14\u001b[0;31m   \u001b[0mresult\u001b[0m \u001b[0;34m=\u001b[0m \u001b[0mdataIn\u001b[0m\u001b[0;34m[\u001b[0m\u001b[0mnp\u001b[0m\u001b[0;34m.\u001b[0m\u001b[0mrandom\u001b[0m\u001b[0;34m.\u001b[0m\u001b[0mchoice\u001b[0m\u001b[0;34m(\u001b[0m\u001b[0mdataIn\u001b[0m\u001b[0;34m.\u001b[0m\u001b[0mshape\u001b[0m\u001b[0;34m[\u001b[0m\u001b[0;36m0\u001b[0m\u001b[0;34m]\u001b[0m\u001b[0;34m,\u001b[0m \u001b[0mk\u001b[0m\u001b[0;34m,\u001b[0m \u001b[0mreplace\u001b[0m\u001b[0;34m=\u001b[0m\u001b[0mfalse\u001b[0m\u001b[0;34m)\u001b[0m\u001b[0;34m]\u001b[0m\u001b[0;34m\u001b[0m\u001b[0;34m\u001b[0m\u001b[0m\n\u001b[0m\u001b[1;32m     15\u001b[0m   \u001b[0;32mreturn\u001b[0m \u001b[0mresult\u001b[0m\u001b[0;34m\u001b[0m\u001b[0;34m\u001b[0m\u001b[0m\n",
            "\u001b[0;31mNameError\u001b[0m: name 'false' is not defined"
          ]
        }
      ]
    }
  ]
}