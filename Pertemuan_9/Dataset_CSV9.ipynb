{
  "nbformat": 4,
  "nbformat_minor": 0,
  "metadata": {
    "colab": {
      "name": "Dataset_CSV9.ipynb",
      "provenance": [],
      "collapsed_sections": []
    },
    "kernelspec": {
      "name": "python3",
      "display_name": "Python 3"
    },
    "language_info": {
      "name": "python"
    }
  },
  "cells": [
    {
      "cell_type": "code",
      "metadata": {
        "id": "w4_2GEcJh2Ny"
      },
      "source": [
        "%matplotlib inline\n",
        "import matplotlib.pyplot as plt\n",
        "import numpy as numpy\n",
        "import pandas as pd\n",
        "from sklearn.cluster import KMeans"
      ],
      "execution_count": 1,
      "outputs": []
    },
    {
      "cell_type": "code",
      "metadata": {
        "id": "DiQ_u0EzjsJs"
      },
      "source": [
        "dataset = pd.read_csv('Konsumen.csv')\n",
        "dataset.keys()"
      ],
      "execution_count": null,
      "outputs": []
    },
    {
      "cell_type": "code",
      "metadata": {
        "id": "MHCizxHXkI2I"
      },
      "source": [
        "dataku = pd.DataFrame(dataset)\n",
        "dataku.head()"
      ],
      "execution_count": null,
      "outputs": []
    },
    {
      "cell_type": "code",
      "metadata": {
        "id": "8-Tu-A2GkYJ4"
      },
      "source": [
        "X = np.asarray(dataset)\n",
        "print(X)"
      ],
      "execution_count": null,
      "outputs": []
    },
    {
      "cell_type": "code",
      "metadata": {
        "id": "nIEYCk11kwO8"
      },
      "source": [
        "plt.scatter(X[:,0], X[:,1], label='True Position')\n",
        "plt.xlabel(\"Gaji\")\n",
        "plt.ylabel(\"Pengeluaran\")\n",
        "plt.title(\"Grafik Penyebaran Data Konsumen\")\n",
        "plt.show()"
      ],
      "execution_count": null,
      "outputs": []
    },
    {
      "cell_type": "code",
      "metadata": {
        "id": "Mt4d-w-pldJS"
      },
      "source": [
        "kmeans = KMeans(n_clusters=2)\n",
        "kmeans.fit(X)"
      ],
      "execution_count": null,
      "outputs": []
    },
    {
      "cell_type": "code",
      "metadata": {
        "id": "drEd2Sfjlr7w"
      },
      "source": [
        "print(kmeans.cluster_centers_)"
      ],
      "execution_count": null,
      "outputs": []
    },
    {
      "cell_type": "code",
      "metadata": {
        "id": "33aivyjTmGnI"
      },
      "source": [
        "plt.scatter(X[:,0], X[:,1], c=kmeans.labels_, cmap='rainbow')\n",
        "plt.xlabel(\"Gaji\")\n",
        "plt.ylabel(\"Pengeluaran\")\n",
        "plt.title(\"Grafik Hasil Klasterisasi Data Gaji dan Pengeluaran Konsumen\")\n",
        "plt.show()"
      ],
      "execution_count": null,
      "outputs": []
    },
    {
      "cell_type": "code",
      "metadata": {
        "id": "ATlbDpoBmlUH"
      },
      "source": [
        "plt.scatter(X[:,0], X[:,1], c=kmeans.labels_, cmap='rainbow')\n",
        "plt.scatter(kmeans.cluster_center_[:,0], kmean.cluster_center_[:,1], color='black')\n",
        "plt.xlabel(\"Gaji\")\n",
        "plt.ylabel(\"Pengeluaran\")\n",
        "plt.title(\"Grafik Hasil Klasterisasi Data Gaji dan Pengeluaran Konsumen\")\n",
        "plt.show()"
      ],
      "execution_count": null,
      "outputs": []
    }
  ]
}