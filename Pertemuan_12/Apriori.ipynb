{
  "nbformat": 4,
  "nbformat_minor": 0,
  "metadata": {
    "colab": {
      "name": "Apriori",
      "provenance": [],
      "collapsed_sections": []
    },
    "kernelspec": {
      "name": "python3",
      "display_name": "Python 3"
    },
    "language_info": {
      "name": "python"
    }
  },
  "cells": [
    {
      "cell_type": "markdown",
      "metadata": {
        "id": "nPCKOgt3DdEQ"
      },
      "source": [
        ""
      ]
    },
    {
      "cell_type": "code",
      "metadata": {
        "id": "Y9jMQrJVojA5"
      },
      "source": [
        "import numpy as np\n",
        "import pandas as pd\n",
        "from mlxtend.frequent_patterns import apriori, association_rules"
      ],
      "execution_count": null,
      "outputs": []
    },
    {
      "cell_type": "code",
      "metadata": {
        "id": "ZAqqyjiBt6YA"
      },
      "source": [
        "data = pd.read_excel('Online_Retail_ind.xlsx')\n",
        "data.head()"
      ],
      "execution_count": null,
      "outputs": []
    },
    {
      "cell_type": "code",
      "metadata": {
        "id": "-56pB1f8ua4u"
      },
      "source": [
        "data.columns"
      ],
      "execution_count": null,
      "outputs": []
    },
    {
      "cell_type": "code",
      "metadata": {
        "id": "EFnebxWvu5zl"
      },
      "source": [
        "data.T1.unique()"
      ],
      "execution_count": null,
      "outputs": []
    },
    {
      "cell_type": "code",
      "metadata": {
        "id": "YJGh3o3iAyTY"
      },
      "source": [
        "data['T1'] = data['T1'].str.strip()\n",
        "data.dropna(axis = 0, subset =['T2'], inplace = True)\n",
        "data['T2'] = data['T2'].astype('str')\n",
        "data = data[~data['InvoiceNo'].str.contains('C')]"
      ],
      "execution_count": null,
      "outputs": []
    },
    {
      "cell_type": "code",
      "metadata": {
        "id": "W3xg5H3vBLCr"
      },
      "source": [
        "def hot_encode(x):\n",
        "    if(x<= 0):\n",
        "        return 0\n",
        "    if(x>= 1):\n",
        "        return 1"
      ],
      "execution_count": null,
      "outputs": []
    },
    {
      "cell_type": "code",
      "metadata": {
        "id": "1vCSo4NkBVNH"
      },
      "source": [
        "basket_encoded = basket_Roti.applymap(hot_encode)\n",
        "basket_Roti = basket_encoded\n",
        "  \n",
        "basket_encoded = basket_Selai.applymap(hot_encode)\n",
        "basket_Selai = basket_encoded\n",
        "  \n",
        "basket_encoded = basket_Mentega.applymap(hot_encode)\n",
        "basket_Mentega = basket_encoded\n",
        "  \n",
        "basket_encoded = basket_Susu.applymap(hot_encode)\n",
        "basket_Susu = basket_encoded\n",
        "\n",
        "basket_encoded = basket_Cokelat.applymap(hot_encode)\n",
        "basket_Cokelat = basket_encoded"
      ],
      "execution_count": null,
      "outputs": []
    },
    {
      "cell_type": "code",
      "metadata": {
        "id": "Nf-4GdwOCMS0"
      },
      "source": [
        "frq_items = apriori(basket_Roti, min_support = 0.3, use_colnames = True)\n",
        "rules = association_rules(frq_items, metric =\"lift\", min_threshold = 1)\n",
        "rules = rules.sort_values(['confidence', 'lift'], ascending =[False, False])\n",
        "print(rules.head())"
      ],
      "execution_count": null,
      "outputs": []
    },
    {
      "cell_type": "code",
      "metadata": {
        "id": "xk6Zw0FPCghV"
      },
      "source": [
        "frq_items = apriori(basket_Selai, min_support = 0.3, use_colnames = True)\n",
        "rules = association_rules(frq_items, metric =\"lift\", min_threshold = 1)\n",
        "rules = rules.sort_values(['confidence', 'lift'], ascending =[False, False])\n",
        "print(rules.head())"
      ],
      "execution_count": null,
      "outputs": []
    },
    {
      "cell_type": "code",
      "metadata": {
        "id": "hol-zL8ICp7z"
      },
      "source": [
        "frq_items = apriori(basket_Mentega, min_support = 0.3, use_colnames = True)\n",
        "rules = association_rules(frq_items, metric =\"lift\", min_threshold = 1)\n",
        "rules = rules.sort_values(['confidence', 'lift'], ascending =[False, False])\n",
        "print(rules.head())"
      ],
      "execution_count": null,
      "outputs": []
    },
    {
      "cell_type": "code",
      "metadata": {
        "id": "JtWLyIPaCtcK"
      },
      "source": [
        "frq_items = apriori(basket_Selai, min_support = 0.3, use_colnames = True)\n",
        "rules = association_rules(frq_items, metric =\"lift\", min_threshold = 1)\n",
        "rules = rules.sort_values(['confidence', 'lift'], ascending =[False, False])\n",
        "print(rules.head())"
      ],
      "execution_count": null,
      "outputs": []
    },
    {
      "cell_type": "code",
      "metadata": {
        "id": "mtTXoEl2CwEP"
      },
      "source": [
        "frq_items = apriori(basket_Susu, min_support = 0.3, use_colnames = True)\n",
        "rules = association_rules(frq_items, metric =\"lift\", min_threshold = 1)\n",
        "rules = rules.sort_values(['confidence', 'lift'], ascending =[False, False])\n",
        "print(rules.head())"
      ],
      "execution_count": null,
      "outputs": []
    },
    {
      "cell_type": "code",
      "metadata": {
        "id": "x4QaSCA7CyaG"
      },
      "source": [
        "frq_items = apriori(basket_Cokelat, min_support = 0.3, use_colnames = True)\n",
        "rules = association_rules(frq_items, metric =\"lift\", min_threshold = 1)\n",
        "rules = rules.sort_values(['confidence', 'lift'], ascending =[False, False])\n",
        "print(rules.head())"
      ],
      "execution_count": null,
      "outputs": []
    }
  ]
}